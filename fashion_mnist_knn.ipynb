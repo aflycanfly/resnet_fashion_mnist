{
 "cells": [
  {
   "cell_type": "markdown",
   "metadata": {},
   "source": [
    "# 用pytorch搭建全连接神经网络，对Fashion-MNIST数据集中的时尚物品进行分类"
   ]
  },
  {
   "cell_type": "markdown",
   "metadata": {},
   "source": [
    "## 0.2验证安装成功\n",
    "\n",
    "运行下面的代码单元，如果正常就说明pytorch安装成功啦！"
   ]
  },
  {
   "cell_type": "code",
   "execution_count": 3,
   "metadata": {},
   "outputs": [],
   "source": [
    "import torch"
   ]
  },
  {
   "cell_type": "code",
   "execution_count": 32,
   "metadata": {
    "scrolled": true
   },
   "outputs": [
    {
     "data": {
      "text/plain": [
       "'1.7.1'"
      ]
     },
     "execution_count": 32,
     "metadata": {},
     "output_type": "execute_result"
    }
   ],
   "source": [
    "# 上面单元格的运行结果：pytorch的版本号\n",
    "torch.__version__"
   ]
  },
  {
   "cell_type": "markdown",
   "metadata": {},
   "source": [
    "# 1 下载Fasion-MNIST数据集"
   ]
  },
  {
   "cell_type": "markdown",
   "metadata": {},
   "source": [
    "Fashion-MNIST 数据集的[中文文档说明](https://github.com/zalandoresearch/fashion-mnist/blob/master/README.zh-CN.md)\n"
   ]
  },
  {
   "cell_type": "code",
   "execution_count": 29,
   "metadata": {},
   "outputs": [],
   "source": [
    "import torch  # 导入pytorch\n",
    "from torch import nn, optim  # 导入神经网络与优化器对应的类\n",
    "import torch.nn.functional as F \n",
    "from torchvision import datasets, transforms ## 导入数据集与数据预处理的方法"
   ]
  },
  {
   "cell_type": "code",
   "execution_count": 30,
   "metadata": {},
   "outputs": [],
   "source": [
    "# 数据预处理：标准化图像数据，使得灰度数据在-1到+1之间\n",
    "transform = transforms.Compose([transforms.ToTensor(),transforms.Normalize((0.5,), (0.5,))])\n",
    "\n",
    "# 下载Fashion-MNIST训练集数据，并构建训练集数据载入器trainloader,每次从训练集中载入64张图片，每次载入都打乱顺序\n",
    "trainset = datasets.FashionMNIST('dataset/', download=True, train=True, transform=transform)\n",
    "trainloader = torch.utils.data.DataLoader(trainset, batch_size=64, shuffle=True)\n",
    "\n",
    "# 下载Fashion-MNIST测试集数据，并构建测试集数据载入器trainloader,每次从测试集中载入64张图片，每次载入都打乱顺序\n",
    "testset = datasets.FashionMNIST('dataset/', download=True, train=False, transform=transform)\n",
    "testloader = torch.utils.data.DataLoader(testset, batch_size=64, shuffle=True)"
   ]
  },
  {
   "cell_type": "markdown",
   "metadata": {},
   "source": [
    "## 显示图片"
   ]
  },
  {
   "cell_type": "code",
   "execution_count": 31,
   "metadata": {
    "scrolled": false
   },
   "outputs": [
    {
     "name": "stdout",
     "output_type": "stream",
     "text": [
      "这张图片对应的标签是 T恤\n"
     ]
    },
    {
     "data": {
      "image/png": "[encoded data removed]",
      "text/plain": [
       "<Figure size 640x480 with 1 Axes>"
      ]
     },
     "metadata": {},
     "output_type": "display_data"
    }
   ],
   "source": [
    "image, label = next(iter(trainloader))\n",
    "\n",
    "# image图片中有64张图片，我们查看索引为2的图片\n",
    "imagedemo = image[3]\n",
    "imagedemolabel = label[3]\n",
    "\n",
    "imagedemo = imagedemo.reshape((28,28))\n",
    "\n",
    "import matplotlib.pyplot as plt\n",
    "%matplotlib inline\n",
    "plt.imshow(imagedemo)\n",
    "\n",
    "labellist = ['T恤','裤子','套衫','裙子','外套','凉鞋','汗衫','运动鞋','包包','靴子']\n",
    "print(f'这张图片对应的标签是 {labellist[imagedemolabel]}')"
   ]
  },
  {
   "cell_type": "markdown",
   "metadata": {},
   "source": [
    "# 2 打开数据集中的图片"
   ]
  },
  {
   "cell_type": "code",
   "execution_count": 9,
   "metadata": {},
   "outputs": [],
   "source": [
    "image, label = next(iter(trainloader))"
   ]
  },
  {
   "cell_type": "code",
   "execution_count": 10,
   "metadata": {},
   "outputs": [
    {
     "data": {
      "text/plain": [
       "torch.Size([64, 1, 28, 28])"
      ]
     },
     "execution_count": 10,
     "metadata": {},
     "output_type": "execute_result"
    }
   ],
   "source": [
    "image.shape"
   ]
  },
  {
   "cell_type": "markdown",
   "metadata": {},
   "source": [
    "image包含了64张28 * 28的灰度图片，1代表单通道，也就是灰度"
   ]
  },
  {
   "cell_type": "code",
   "execution_count": 11,
   "metadata": {},
   "outputs": [
    {
     "data": {
      "text/plain": [
       "tensor([0, 8, 1, 2, 9, 9, 0, 7, 5, 6, 0, 6, 9, 5, 1, 7, 8, 5, 5, 3, 8, 4, 6, 0,\n",
       "        7, 9, 8, 5, 8, 7, 3, 0, 8, 0, 1, 6, 5, 9, 0, 4, 9, 0, 2, 5, 1, 3, 9, 0,\n",
       "        4, 2, 3, 2, 3, 4, 5, 5, 8, 4, 8, 0, 1, 0, 0, 3])"
      ]
     },
     "execution_count": 11,
     "metadata": {},
     "output_type": "execute_result"
    }
   ],
   "source": [
    "label"
   ]
  },
  {
   "cell_type": "markdown",
   "metadata": {},
   "source": [
    "label包含了image里面64张图片对应的标签\n",
    "\n",
    "| 标注编号 | 描述 |\n",
    "| --- | --- |\n",
    "| 0 | T-shirt/top（T恤）|\n",
    "| 1 | Trouser（裤子）|\n",
    "| 2 | Pullover（套衫）|\n",
    "| 3 | Dress（裙子）|\n",
    "| 4 | Coat（外套）|\n",
    "| 5 | Sandal（凉鞋）|\n",
    "| 6 | Shirt（汗衫）|\n",
    "| 7 | Sneaker（运动鞋）|\n",
    "| 8 | Bag（包）|\n",
    "| 9 | Ankle boot（踝靴）|"
   ]
  },
  {
   "cell_type": "markdown",
   "metadata": {},
   "source": [
    "## 打开训练集中的一张图片看看"
   ]
  },
  {
   "cell_type": "code",
   "execution_count": 12,
   "metadata": {},
   "outputs": [],
   "source": [
    "imagedemo = image[2]\n",
    "imagedemolabel = label[2]"
   ]
  },
  {
   "cell_type": "code",
   "execution_count": 13,
   "metadata": {},
   "outputs": [
    {
     "data": {
      "text/plain": [
       "torch.Size([1, 28, 28])"
      ]
     },
     "execution_count": 13,
     "metadata": {},
     "output_type": "execute_result"
    }
   ],
   "source": [
    "imagedemo.shape"
   ]
  },
  {
   "cell_type": "code",
   "execution_count": 14,
   "metadata": {},
   "outputs": [],
   "source": [
    "imagedemo = imagedemo.reshape((28,28))"
   ]
  },
  {
   "cell_type": "code",
   "execution_count": 15,
   "metadata": {},
   "outputs": [
    {
     "data": {
      "text/plain": [
       "torch.Size([28, 28])"
      ]
     },
     "execution_count": 15,
     "metadata": {},
     "output_type": "execute_result"
    }
   ],
   "source": [
    "imagedemo.shape"
   ]
  },
  {
   "cell_type": "code",
   "execution_count": 18,
   "metadata": {
    "scrolled": true
   },
   "outputs": [
    {
     "name": "stdout",
     "output_type": "stream",
     "text": [
      "这张图片对应的标签是 裤子\n"
     ]
    },
    {
     "data": {
      "image/png": "[encoded data removed]",
      "text/plain": [
       "<Figure size 640x480 with 1 Axes>"
      ]
     },
     "metadata": {},
     "output_type": "display_data"
    }
   ],
   "source": [
    "import matplotlib.pyplot as plt\n",
    "%matplotlib inline\n",
    "plt.imshow(imagedemo)\n",
    "\n",
    "labellist = ['T恤','裤子','套衫','裙子','外套','凉鞋','汗衫','运动鞋','包包','靴子']\n",
    "print(f'这张图片对应的标签是 {labellist[imagedemolabel]}')"
   ]
  },
  {
   "cell_type": "markdown",
   "metadata": {},
   "source": [
    "## 查看一张图片和标签完整的代码"
   ]
  },
  {
   "cell_type": "code",
   "execution_count": 19,
   "metadata": {
    "scrolled": false
   },
   "outputs": [
    {
     "name": "stdout",
     "output_type": "stream",
     "text": [
      "这张图片对应的标签是 外套\n"
     ]
    },
    {
     "data": {
      "image/png": "[encoded data removed]",
      "text/plain": [
       "<Figure size 640x480 with 1 Axes>"
      ]
     },
     "metadata": {},
     "output_type": "display_data"
    }
   ],
   "source": [
    "image, label = next(iter(trainloader))\n",
    "\n",
    "# image图片中有64张图片，我们查看索引为2的图片\n",
    "imagedemo = image[3]\n",
    "imagedemolabel = label[3]\n",
    "\n",
    "imagedemo = imagedemo.reshape((28,28))\n",
    "\n",
    "import matplotlib.pyplot as plt\n",
    "%matplotlib inline\n",
    "plt.imshow(imagedemo)\n",
    "\n",
    "labellist = ['T恤','裤子','套衫','裙子','外套','凉鞋','汗衫','运动鞋','包包','靴子']\n",
    "print(f'这张图片对应的标签是 {labellist[imagedemolabel]}')"
   ]
  },
  {
   "cell_type": "markdown",
   "metadata": {},
   "source": [
    "# 2 搭建并训练四层全连接神经网络\n",
    "\n",
    "神经网络的输入为28 * 28 = 784 个像素<br>\n",
    "第一个隐含层包含256个神经元<br>\n",
    "第二个隐含层包含128个神经元<br>\n",
    "第三个隐含层包含64个神经元<br>\n",
    "输出层输出10个结果，对应图片的10种分类<br>"
   ]
  },
  {
   "cell_type": "markdown",
   "metadata": {},
   "source": [
    "![全连接神经网络](https://upload-images.jianshu.io/upload_images/13714448-c8b5fa11504798bf.png?imageMogr2/auto-orient/strip%7CimageView2/2/w/1240)"
   ]
  },
  {
   "cell_type": "code",
   "execution_count": 20,
   "metadata": {},
   "outputs": [],
   "source": [
    "from torch import nn, optim\n",
    "import torch.nn.functional as F\n",
    "\n",
    "class Classifier(nn.Module):\n",
    "    def __init__(self):\n",
    "        super().__init__()\n",
    "        self.fc1 = nn.Linear(784, 256)\n",
    "        self.fc2 = nn.Linear(256, 128)\n",
    "        self.fc3 = nn.Linear(128, 64)\n",
    "        self.fc4 = nn.Linear(64, 10)\n",
    "        \n",
    "    def forward(self, x):\n",
    "        # make sure input tensor is flattened\n",
    "        x = x.view(x.shape[0], -1)\n",
    "        \n",
    "        x = F.relu(self.fc1(x))\n",
    "        x = F.relu(self.fc2(x))\n",
    "        x = F.relu(self.fc3(x))\n",
    "        x = F.log_softmax(self.fc4(x), dim=1)#最后用log_softmax，因为后面要用NLLLoss。 如果不激活，就是不经过softmax，后面就要用CrossEntropyLoss\n",
    "        \n",
    "        return x"
   ]
  },
  {
   "cell_type": "code",
   "execution_count": 23,
   "metadata": {
    "scrolled": false
   },
   "outputs": [
    {
     "name": "stdout",
     "output_type": "stream",
     "text": [
      "开始训练\n",
      "训练集学习次数: 1/15..  训练误差: 0.518..  测试误差: 0.417..  模型分类准确率: 0.850\n",
      "训练集学习次数: 2/15..  训练误差: 0.393..  测试误差: 0.410..  模型分类准确率: 0.852\n",
      "训练集学习次数: 3/15..  训练误差: 0.355..  测试误差: 0.381..  模型分类准确率: 0.864\n",
      "训练集学习次数: 4/15..  训练误差: 0.336..  测试误差: 0.387..  模型分类准确率: 0.863\n",
      "训练集学习次数: 5/15..  训练误差: 0.317..  测试误差: 0.367..  模型分类准确率: 0.870\n",
      "训练集学习次数: 6/15..  训练误差: 0.303..  测试误差: 0.365..  模型分类准确率: 0.874\n",
      "训练集学习次数: 7/15..  训练误差: 0.290..  测试误差: 0.347..  模型分类准确率: 0.879\n",
      "训练集学习次数: 8/15..  训练误差: 0.283..  测试误差: 0.370..  模型分类准确率: 0.870\n",
      "训练集学习次数: 9/15..  训练误差: 0.274..  测试误差: 0.375..  模型分类准确率: 0.874\n",
      "训练集学习次数: 10/15..  训练误差: 0.267..  测试误差: 0.365..  模型分类准确率: 0.875\n",
      "训练集学习次数: 11/15..  训练误差: 0.260..  测试误差: 0.346..  模型分类准确率: 0.879\n",
      "训练集学习次数: 12/15..  训练误差: 0.253..  测试误差: 0.347..  模型分类准确率: 0.882\n",
      "训练集学习次数: 13/15..  训练误差: 0.245..  测试误差: 0.401..  模型分类准确率: 0.865\n",
      "训练集学习次数: 14/15..  训练误差: 0.244..  测试误差: 0.356..  模型分类准确率: 0.881\n",
      "训练集学习次数: 15/15..  训练误差: 0.234..  测试误差: 0.353..  模型分类准确率: 0.884\n"
     ]
    }
   ],
   "source": [
    "# 对上面定义的Classifier类进行实例化\n",
    "model = Classifier()\n",
    "\n",
    "# 定义损失函数为负对数损失函数\n",
    "criterion = nn.NLLLoss()\n",
    "\n",
    "# 优化方法为Adam梯度下降方法，学习率为0.003\n",
    "optimizer = optim.Adam(model.parameters(), lr=0.003)\n",
    "\n",
    "# 对训练集的全部数据学习15遍，这个数字越大，训练时间越长\n",
    "epochs = 15\n",
    "\n",
    "# 将每次训练的训练误差和测试误差存储在这两个列表里，后面绘制误差变化折线图用\n",
    "train_losses, test_losses = [], []\n",
    "\n",
    "print('开始训练')\n",
    "for e in range(epochs):\n",
    "    running_loss = 0\n",
    "    \n",
    "    # 对训练集中的所有图片都过一遍\n",
    "    for images, labels in trainloader:\n",
    "        # 将优化器中的求导结果都设为0，否则会在每次反向传播之后叠加之前的\n",
    "        optimizer.zero_grad()\n",
    "        \n",
    "        # 对64张图片进行推断，计算损失函数，反向传播优化权重，将损失求和\n",
    "        log_ps = model(images)\n",
    "        loss = criterion(log_ps, labels)\n",
    "        loss.backward()\n",
    "        optimizer.step()\n",
    "        running_loss += loss.item()\n",
    "    \n",
    "    # 每次学完一遍数据集，都进行以下测试操作\n",
    "    else:\n",
    "        test_loss = 0\n",
    "        accuracy = 0\n",
    "        # 测试的时候不需要开自动求导和反向传播\n",
    "        with torch.no_grad():\n",
    "            # 关闭Dropout\n",
    "            model.eval()\n",
    "            \n",
    "            # 对测试集中的所有图片都过一遍\n",
    "            for images, labels in testloader:\n",
    "                # 对传入的测试集图片进行正向推断、计算损失，accuracy为测试集一万张图片中模型预测正确率\n",
    "                log_ps = model(images)\n",
    "                test_loss += criterion(log_ps, labels)\n",
    "                ps = torch.exp(log_ps)\n",
    "                top_p, top_class = ps.topk(1, dim=1)\n",
    "                equals = top_class == labels.view(*top_class.shape)\n",
    "                \n",
    "                # 等号右边为每一批64张测试图片中预测正确的占比\n",
    "                accuracy += torch.mean(equals.type(torch.FloatTensor))\n",
    "        # 恢复Dropout\n",
    "        model.train()\n",
    "        # 将训练误差和测试误差存在两个列表里，后面绘制误差变化折线图用\n",
    "        train_losses.append(running_loss/len(trainloader))\n",
    "        test_losses.append(test_loss/len(testloader))\n",
    "\n",
    "        print(\"训练集学习次数: {}/{}.. \".format(e+1, epochs),\n",
    "              \"训练误差: {:.3f}.. \".format(running_loss/len(trainloader)),\n",
    "              \"测试误差: {:.3f}.. \".format(test_loss/len(testloader)),\n",
    "              \"模型分类准确率: {:.3f}\".format(accuracy/len(testloader)))"
   ]
  },
  {
   "cell_type": "markdown",
   "metadata": {},
   "source": [
    "# 3 验证模型效果"
   ]
  },
  {
   "cell_type": "markdown",
   "metadata": {},
   "source": [
    "## 绘制训练误差和测试误差随学习次数增加的变化"
   ]
  },
  {
   "cell_type": "code",
   "execution_count": 25,
   "metadata": {},
   "outputs": [],
   "source": [
    "import matplotlib.pyplot as plt\n",
    "%matplotlib inline"
   ]
  },
  {
   "cell_type": "code",
   "execution_count": 26,
   "metadata": {
    "scrolled": false
   },
   "outputs": [
    {
     "data": {
      "text/plain": [
       "<matplotlib.legend.Legend at 0x1fc8f574d88>"
      ]
     },
     "execution_count": 26,
     "metadata": {},
     "output_type": "execute_result"
    },
    {
     "data": {
      "image/png": "[encoded data removed]",
      "text/plain": [
       "<Figure size 640x480 with 1 Axes>"
      ]
     },
     "metadata": {},
     "output_type": "display_data"
    }
   ],
   "source": [
    "plt.plot(train_losses, label='Training loss')\n",
    "plt.plot(test_losses, label='Validation loss')\n",
    "plt.legend()"
   ]
  },
  {
   "cell_type": "markdown",
   "metadata": {},
   "source": [
    "可以看到，虽然训练误差一直在下降，但测试误差居高不下，我们的神经网络仿佛一个高分低能的同学，平时把所有课后题答案都死记硬背下来，一到考试见到新题的时候就不会做了。\n",
    "\n",
    "虽然高分低能，但大部分时候依旧能做出正确判断，但是有时候预测概率只有百分之三四十的把握，不能做到十有八九的确定。"
   ]
  },
  {
   "cell_type": "code",
   "execution_count": 27,
   "metadata": {
    "scrolled": true
   },
   "outputs": [
    {
     "name": "stdout",
     "output_type": "stream",
     "text": [
      "神经网络猜测图片里是 汗衫，概率为67.57308840751648%\n"
     ]
    },
    {
     "data": {
      "image/png": "[encoded data removed]",
      "text/plain": [
       "<Figure size 640x480 with 1 Axes>"
      ]
     },
     "metadata": {},
     "output_type": "display_data"
    }
   ],
   "source": [
    "dataiter = iter(testloader)\n",
    "images, labels = dataiter.next()\n",
    "img = images[0]\n",
    "img = img.reshape((28,28)).numpy()\n",
    "plt.imshow(img)\n",
    "\n",
    "# 将测试图片转为一维的列向量\n",
    "img = torch.from_numpy(img)\n",
    "img = img.view(1, 784)\n",
    "\n",
    "# 进行正向推断，预测图片所在的类别\n",
    "with torch.no_grad():\n",
    "    output = model.forward(img)\n",
    "ps = torch.exp(output)\n",
    "\n",
    "top_p, top_class = ps.topk(1, dim=1)\n",
    "labellist = ['T恤','裤子','套衫','裙子','外套','凉鞋','汗衫','运动鞋','包包','靴子']\n",
    "prediction = labellist[top_class]\n",
    "probability = float(top_p)\n",
    "print(f'神经网络猜测图片里是 {prediction}，概率为{probability*100}%')"
   ]
  },
  {
   "cell_type": "markdown",
   "metadata": {},
   "source": [
    "# 4 采用Dropout方法防止过拟合"
   ]
  },
  {
   "cell_type": "markdown",
   "metadata": {},
   "source": [
    "我们可以采用Dropout的方法，也就是在每次正向推断训练神经元的时候随机“掐死”一部分神经元，阻断其输入输出，这样可以起到正则化的作用。\n",
    "\n",
    "可以理解为，皇上雨露均沾，今天受宠，明天可能就被打入冷宫，这样就防止了杨贵妃那样的“三千宠爱在一身”，从而防止了某些神经元一家独大，成为话题领袖，只手遮天。\n",
    "\n",
    "所有神经元处于平等地位，防止过拟合。"
   ]
  },
  {
   "cell_type": "code",
   "execution_count": 27,
   "metadata": {},
   "outputs": [],
   "source": [
    "class Classifier(nn.Module):\n",
    "    def __init__(self):\n",
    "        super().__init__()\n",
    "        self.fc1 = nn.Linear(784, 256)\n",
    "        self.fc2 = nn.Linear(256, 128)\n",
    "        self.fc3 = nn.Linear(128, 64)\n",
    "        self.fc4 = nn.Linear(64, 10)\n",
    "        \n",
    "        # 构造Dropout方法，在每次训练过程中都随机“掐死”百分之二十的神经元，防止过拟合。\n",
    "        self.dropout = nn.Dropout(p=0.2)\n",
    "        \n",
    "    def forward(self, x):\n",
    "        # 确保输入的tensor是展开的单列数据，把每张图片的通道、长度、宽度三个维度都压缩为一列\n",
    "        x = x.view(x.shape[0], -1)\n",
    "        \n",
    "        # 在训练过程中对隐含层神经元的正向推断使用Dropout方法\n",
    "        x = self.dropout(F.relu(self.fc1(x)))\n",
    "        x = self.dropout(F.relu(self.fc2(x)))\n",
    "        x = self.dropout(F.relu(self.fc3(x)))\n",
    "        \n",
    "        # 在输出单元不需要使用Dropout方法\n",
    "        x = F.log_softmax(self.fc4(x), dim=1)\n",
    "        \n",
    "        return x"
   ]
  },
  {
   "cell_type": "code",
   "execution_count": 28,
   "metadata": {},
   "outputs": [
    {
     "name": "stdout",
     "output_type": "stream",
     "text": [
      "开始训练\n",
      "训练集学习次数: 1/15..  训练误差: 0.610..  测试误差: 0.493..  模型分类准确率: 0.818\n",
      "训练集学习次数: 2/15..  训练误差: 0.480..  测试误差: 0.440..  模型分类准确率: 0.843\n",
      "训练集学习次数: 3/15..  训练误差: 0.455..  测试误差: 0.462..  模型分类准确率: 0.830\n",
      "训练集学习次数: 4/15..  训练误差: 0.434..  测试误差: 0.420..  模型分类准确率: 0.849\n",
      "训练集学习次数: 5/15..  训练误差: 0.426..  测试误差: 0.415..  模型分类准确率: 0.852\n",
      "训练集学习次数: 6/15..  训练误差: 0.410..  测试误差: 0.421..  模型分类准确率: 0.855\n",
      "训练集学习次数: 7/15..  训练误差: 0.407..  测试误差: 0.396..  模型分类准确率: 0.865\n",
      "训练集学习次数: 8/15..  训练误差: 0.398..  测试误差: 0.387..  模型分类准确率: 0.864\n",
      "训练集学习次数: 9/15..  训练误差: 0.389..  测试误差: 0.399..  模型分类准确率: 0.853\n",
      "训练集学习次数: 10/15..  训练误差: 0.389..  测试误差: 0.383..  模型分类准确率: 0.864\n",
      "训练集学习次数: 11/15..  训练误差: 0.381..  测试误差: 0.393..  模型分类准确率: 0.867\n",
      "训练集学习次数: 12/15..  训练误差: 0.385..  测试误差: 0.378..  模型分类准确率: 0.865\n",
      "训练集学习次数: 13/15..  训练误差: 0.377..  测试误差: 0.367..  模型分类准确率: 0.873\n",
      "训练集学习次数: 14/15..  训练误差: 0.373..  测试误差: 0.381..  模型分类准确率: 0.867\n",
      "训练集学习次数: 15/15..  训练误差: 0.371..  测试误差: 0.377..  模型分类准确率: 0.872\n"
     ]
    }
   ],
   "source": [
    "# 对上面定义的Classifier类进行实例化\n",
    "model = Classifier()\n",
    "\n",
    "# 定义损失函数为负对数损失函数\n",
    "criterion = nn.NLLLoss()\n",
    "\n",
    "# 优化方法为Adam梯度下降方法，学习率为0.003\n",
    "optimizer = optim.Adam(model.parameters(), lr=0.003)\n",
    "\n",
    "# 对训练集的全部数据学习15遍，这个数字越大，训练时间越长\n",
    "epochs = 15\n",
    "\n",
    "# 将每次训练的训练误差和测试误差存储在这两个列表里，后面绘制误差变化折线图用\n",
    "train_losses, test_losses = [], []\n",
    "\n",
    "print('开始训练')\n",
    "for e in range(epochs):\n",
    "    running_loss = 0\n",
    "    \n",
    "    # 对训练集中的所有图片都过一遍\n",
    "    for images, labels in trainloader:\n",
    "        # 将优化器中的求导结果都设为0，否则会在每次反向传播之后叠加之前的\n",
    "        optimizer.zero_grad()\n",
    "        \n",
    "        # 对64张图片进行推断，计算损失函数，反向传播优化权重，将损失求和\n",
    "        log_ps = model(images)\n",
    "        loss = criterion(log_ps, labels)\n",
    "        loss.backward()\n",
    "        optimizer.step()\n",
    "        running_loss += loss.item()\n",
    "    \n",
    "    # 每次学完一遍数据集，都进行以下测试操作\n",
    "    else:\n",
    "        test_loss = 0\n",
    "        accuracy = 0\n",
    "        # 测试的时候不需要开自动求导和反向传播\n",
    "        with torch.no_grad():\n",
    "            # 关闭Dropout\n",
    "            model.eval()\n",
    "            \n",
    "            # 对测试集中的所有图片都过一遍\n",
    "            for images, labels in testloader:\n",
    "                # 对传入的测试集图片进行正向推断、计算损失，accuracy为测试集一万张图片中模型预测正确率\n",
    "                log_ps = model(images)\n",
    "                test_loss += criterion(log_ps, labels)\n",
    "                ps = torch.exp(log_ps)\n",
    "                top_p, top_class = ps.topk(1, dim=1)\n",
    "                equals = top_class == labels.view(*top_class.shape)\n",
    "                \n",
    "                # 等号右边为每一批64张测试图片中预测正确的占比\n",
    "                accuracy += torch.mean(equals.type(torch.FloatTensor))\n",
    "        # 恢复Dropout\n",
    "        model.train()\n",
    "        # 将训练误差和测试误差存在两个列表里，后面绘制误差变化折线图用\n",
    "        train_losses.append(running_loss/len(trainloader))\n",
    "        test_losses.append(test_loss/len(testloader))\n",
    "\n",
    "        print(\"训练集学习次数: {}/{}.. \".format(e+1, epochs),\n",
    "              \"训练误差: {:.3f}.. \".format(running_loss/len(trainloader)),\n",
    "              \"测试误差: {:.3f}.. \".format(test_loss/len(testloader)),\n",
    "              \"模型分类准确率: {:.3f}\".format(accuracy/len(testloader)))"
   ]
  },
  {
   "cell_type": "code",
   "execution_count": 25,
   "metadata": {},
   "outputs": [],
   "source": [
    "import matplotlib.pyplot as plt\n",
    "%matplotlib inline"
   ]
  },
  {
   "cell_type": "code",
   "execution_count": 26,
   "metadata": {},
   "outputs": [
    {
     "data": {
      "text/plain": [
       "<matplotlib.legend.Legend at 0x247495ccd48>"
      ]
     },
     "execution_count": 26,
     "metadata": {},
     "output_type": "execute_result"
    },
    {
     "data": {
      "image/png": "[encoded data removed]",
      "text/plain": [
       "<Figure size 640x480 with 1 Axes>"
      ]
     },
     "metadata": {},
     "output_type": "display_data"
    }
   ],
   "source": [
    "plt.plot(train_losses, label='Training loss')\n",
    "plt.plot(test_losses, label='Validation loss')\n",
    "plt.legend()"
   ]
  },
  {
   "cell_type": "markdown",
   "metadata": {},
   "source": [
    "可以看到，训练误差和测试误差都随学习次数增加逐渐降低，没有出现“高分低能”和“死记硬背”的过拟合现象，这其实是Dropout正则化的功劳。"
   ]
  },
  {
   "cell_type": "code",
   "execution_count": 32,
   "metadata": {},
   "outputs": [
    {
     "name": "stdout",
     "output_type": "stream",
     "text": [
      "神经网络猜测图片里是 靴子，概率为97.17029929161072%\n"
     ]
    },
    {
     "data": {
      "image/png": "[encoded data removed]",
      "text/plain": [
       "<Figure size 640x480 with 1 Axes>"
      ]
     },
     "metadata": {},
     "output_type": "display_data"
    }
   ],
   "source": [
    "model.eval()\n",
    "dataiter = iter(testloader)\n",
    "images, labels = dataiter.next()\n",
    "img = images[0]\n",
    "img = img.reshape((28,28)).numpy()\n",
    "plt.imshow(img)\n",
    "\n",
    "# 将测试图片转为一维的列向量\n",
    "img = torch.from_numpy(img)\n",
    "img = img.view(1, 784)\n",
    "\n",
    "# 进行正向推断，预测图片所在的类别\n",
    "with torch.no_grad():\n",
    "    output = model.forward(img)\n",
    "ps = torch.exp(output)\n",
    "\n",
    "top_p, top_class = ps.topk(1, dim=1)\n",
    "labellist = ['T恤','裤子','套衫','裙子','外套','凉鞋','汗衫','运动鞋','包包','靴子']\n",
    "prediction = labellist[top_class]\n",
    "probability = float(top_p)\n",
    "print(f'神经网络猜测图片里是 {prediction}，概率为{probability*100}%')"
   ]
  },
  {
   "cell_type": "code",
   "execution_count": null,
   "metadata": {},
   "outputs": [],
   "source": []
  },
  {
   "cell_type": "code",
   "execution_count": null,
   "metadata": {},
   "outputs": [],
   "source": []
  },
  {
   "cell_type": "code",
   "execution_count": null,
   "metadata": {},
   "outputs": [],
   "source": []
  }
 ],
 "metadata": {
  "kernelspec": {
   "display_name": "Python 3.7.7 ('torch1.7.1')",
   "language": "python",
   "name": "python3"
  },
  "language_info": {
   "codemirror_mode": {
    "name": "ipython",
    "version": 3
   },
   "file_extension": ".py",
   "mimetype": "text/x-python",
   "name": "python",
   "nbconvert_exporter": "python",
   "pygments_lexer": "ipython3",
   "version": "3.7.7"
  },
  "vscode": {
   "interpreter": {
    "hash": "687c8f21f41a261258b6b8472f206003a5139c4deaaa2118678d5c0c86ae6196"
   }
  }
 },
 "nbformat": 4,
 "nbformat_minor": 2
}
